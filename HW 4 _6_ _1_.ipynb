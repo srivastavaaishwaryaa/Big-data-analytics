{
 "cells": [
  {
   "cell_type": "markdown",
   "metadata": {},
   "source": [
    "# Homework 4\n",
    "\n",
    "## Part I: Sentiment Analysis for Movie Reviews\n",
    "\n",
    "Sentiment analysis is a hot topic in data science right now due to the immense amount of user-generated text data being created every day online.  Businesses can now look at what is being said about them on review sites to get an idea of how well they are liked, how much they are disliked, and what they can do to improve.  While most of this data is unlabeled, some sites also ask users to provide a numerical or star rating.  This allows us to build a classifier for positive/negative reviews using the star rating as a label, which could then be hypothetically applied to unlabeled text.\n",
    "\n",
    "IMDB collects information about movies and lets users write their own reviews, as well as provide a 1-10 numerical rating.   The data for this assignment can be found in 'IMDB_TRAIN.csv' and IMDB_TEST.csv', the training and test data respectively. It consists of thousands of positive and negative reviews collected from IMDB.  The ratings have been binarized by labeling anything with score between 7 and 10 as “P” and anything between 1 and 4 with “N” (there are no “neutral” reviews in the data).  You will build and evaluate a system that classifies these movie reviews as positive or negative."
   ]
  },
  {
   "cell_type": "markdown",
   "metadata": {},
   "source": [
    "__1. Load the training data and the test data. No points for this.__"
   ]
  },
  {
   "cell_type": "code",
   "execution_count": 56,
   "metadata": {},
   "outputs": [
    {
     "name": "stdout",
     "output_type": "stream",
     "text": [
      "Requirement already satisfied: nltk in c:\\programdata\\anaconda3\\lib\\site-packages (3.4)\n",
      "Requirement already satisfied: six in c:\\programdata\\anaconda3\\lib\\site-packages (from nltk) (1.12.0)\n",
      "Requirement already satisfied: singledispatch in c:\\programdata\\anaconda3\\lib\\site-packages (from nltk) (3.4.0.3)\n"
     ]
    }
   ],
   "source": [
    "!pip install nltk"
   ]
  },
  {
   "cell_type": "code",
   "execution_count": 57,
   "metadata": {},
   "outputs": [],
   "source": [
    "import nltk"
   ]
  },
  {
   "cell_type": "code",
   "execution_count": 58,
   "metadata": {},
   "outputs": [
    {
     "data": {
      "text/plain": [
       "<bound method Downloader.download of <nltk.downloader.Downloader object at 0x000001C2C50EBA90>>"
      ]
     },
     "execution_count": 58,
     "metadata": {},
     "output_type": "execute_result"
    }
   ],
   "source": [
    "nltk.download"
   ]
  },
  {
   "cell_type": "code",
   "execution_count": 59,
   "metadata": {},
   "outputs": [
    {
     "data": {
      "text/html": [
       "<div>\n",
       "<style scoped>\n",
       "    .dataframe tbody tr th:only-of-type {\n",
       "        vertical-align: middle;\n",
       "    }\n",
       "\n",
       "    .dataframe tbody tr th {\n",
       "        vertical-align: top;\n",
       "    }\n",
       "\n",
       "    .dataframe thead th {\n",
       "        text-align: right;\n",
       "    }\n",
       "</style>\n",
       "<table border=\"1\" class=\"dataframe\">\n",
       "  <thead>\n",
       "    <tr style=\"text-align: right;\">\n",
       "      <th></th>\n",
       "      <th>text</th>\n",
       "      <th>class</th>\n",
       "    </tr>\n",
       "  </thead>\n",
       "  <tbody>\n",
       "    <tr>\n",
       "      <th>0</th>\n",
       "      <td>'If you hit your teens in the 70s as I did you...</td>\n",
       "      <td>N</td>\n",
       "    </tr>\n",
       "    <tr>\n",
       "      <th>1</th>\n",
       "      <td>'Excellent endearing film with Peter Falk and ...</td>\n",
       "      <td>P</td>\n",
       "    </tr>\n",
       "    <tr>\n",
       "      <th>2</th>\n",
       "      <td>'Oh dear what a horrid movie. The production w...</td>\n",
       "      <td>N</td>\n",
       "    </tr>\n",
       "    <tr>\n",
       "      <th>3</th>\n",
       "      <td>'This is a terrible production of Bartleby tho...</td>\n",
       "      <td>N</td>\n",
       "    </tr>\n",
       "    <tr>\n",
       "      <th>4</th>\n",
       "      <td>'I actually have a fondness for Christopher Le...</td>\n",
       "      <td>N</td>\n",
       "    </tr>\n",
       "  </tbody>\n",
       "</table>\n",
       "</div>"
      ],
      "text/plain": [
       "                                                text class\n",
       "0  'If you hit your teens in the 70s as I did you...     N\n",
       "1  'Excellent endearing film with Peter Falk and ...     P\n",
       "2  'Oh dear what a horrid movie. The production w...     N\n",
       "3  'This is a terrible production of Bartleby tho...     N\n",
       "4  'I actually have a fondness for Christopher Le...     N"
      ]
     },
     "execution_count": 59,
     "metadata": {},
     "output_type": "execute_result"
    }
   ],
   "source": [
    "import pandas as pd\n",
    "\n",
    "# Remember to change this to the path of your files.\n",
    "train_path = 'C:/Users/UTKARSH/IMDB_TRAIN.csv'\n",
    "test_path = 'C:/Users/UTKARSH//IMDB_TEST.csv'\n",
    "\n",
    "columns = ['text', 'class']\n",
    "df_imdb_train = pd.read_csv(train_path, names=columns)\n",
    "df_imdb_test = pd.read_csv(test_path, names=columns)\n",
    "df_imdb_train.head()"
   ]
  },
  {
   "cell_type": "code",
   "execution_count": 60,
   "metadata": {},
   "outputs": [
    {
     "data": {
      "text/html": [
       "<div>\n",
       "<style scoped>\n",
       "    .dataframe tbody tr th:only-of-type {\n",
       "        vertical-align: middle;\n",
       "    }\n",
       "\n",
       "    .dataframe tbody tr th {\n",
       "        vertical-align: top;\n",
       "    }\n",
       "\n",
       "    .dataframe thead th {\n",
       "        text-align: right;\n",
       "    }\n",
       "</style>\n",
       "<table border=\"1\" class=\"dataframe\">\n",
       "  <thead>\n",
       "    <tr style=\"text-align: right;\">\n",
       "      <th></th>\n",
       "      <th>text</th>\n",
       "      <th>class</th>\n",
       "    </tr>\n",
       "  </thead>\n",
       "  <tbody>\n",
       "    <tr>\n",
       "      <th>0</th>\n",
       "      <td>'One of the first of the best musicals Anchors...</td>\n",
       "      <td>P</td>\n",
       "    </tr>\n",
       "    <tr>\n",
       "      <th>1</th>\n",
       "      <td>'Visually disjointed and full of itself the di...</td>\n",
       "      <td>N</td>\n",
       "    </tr>\n",
       "    <tr>\n",
       "      <th>2</th>\n",
       "      <td>'These type of movies about young teenagers st...</td>\n",
       "      <td>P</td>\n",
       "    </tr>\n",
       "    <tr>\n",
       "      <th>3</th>\n",
       "      <td>'I would rather of had my eyes gouged out with...</td>\n",
       "      <td>N</td>\n",
       "    </tr>\n",
       "    <tr>\n",
       "      <th>4</th>\n",
       "      <td>'The title says it all. Tail Gunner Joe was a ...</td>\n",
       "      <td>N</td>\n",
       "    </tr>\n",
       "  </tbody>\n",
       "</table>\n",
       "</div>"
      ],
      "text/plain": [
       "                                                text class\n",
       "0  'One of the first of the best musicals Anchors...     P\n",
       "1  'Visually disjointed and full of itself the di...     N\n",
       "2  'These type of movies about young teenagers st...     P\n",
       "3  'I would rather of had my eyes gouged out with...     N\n",
       "4  'The title says it all. Tail Gunner Joe was a ...     N"
      ]
     },
     "execution_count": 60,
     "metadata": {},
     "output_type": "execute_result"
    }
   ],
   "source": [
    "df_imdb_test.head()"
   ]
  },
  {
   "cell_type": "code",
   "execution_count": 61,
   "metadata": {},
   "outputs": [
    {
     "name": "stdout",
     "output_type": "stream",
     "text": [
      "0       1.0\n",
      "1       0.0\n",
      "2       1.0\n",
      "3       0.0\n",
      "4       0.0\n",
      "5       1.0\n",
      "6       0.0\n",
      "7       0.0\n",
      "8       1.0\n",
      "9       1.0\n",
      "10      0.0\n",
      "11      1.0\n",
      "12      0.0\n",
      "13      0.0\n",
      "14      0.0\n",
      "15      1.0\n",
      "16      0.0\n",
      "17      0.0\n",
      "18      0.0\n",
      "19      1.0\n",
      "20      1.0\n",
      "21      1.0\n",
      "22      1.0\n",
      "23      0.0\n",
      "24      1.0\n",
      "25      1.0\n",
      "26      0.0\n",
      "27      1.0\n",
      "28      0.0\n",
      "29      0.0\n",
      "       ... \n",
      "8470    0.0\n",
      "8471    1.0\n",
      "8472    0.0\n",
      "8473    1.0\n",
      "8474    1.0\n",
      "8475    0.0\n",
      "8476    0.0\n",
      "8477    0.0\n",
      "8478    1.0\n",
      "8479    0.0\n",
      "8480    0.0\n",
      "8481    1.0\n",
      "8482    1.0\n",
      "8483    1.0\n",
      "8484    0.0\n",
      "8485    0.0\n",
      "8486    1.0\n",
      "8487    0.0\n",
      "8488    0.0\n",
      "8489    1.0\n",
      "8490    0.0\n",
      "8491    1.0\n",
      "8492    0.0\n",
      "8493    1.0\n",
      "8494    0.0\n",
      "8495    0.0\n",
      "8496    0.0\n",
      "8497    0.0\n",
      "8498    0.0\n",
      "8499    0.0\n",
      "Name: class, Length: 8500, dtype: float64\n",
      "0        0\n",
      "1        1\n",
      "2        0\n",
      "3        0\n",
      "4        0\n",
      "5        1\n",
      "6        0\n",
      "7        0\n",
      "8        0\n",
      "9        1\n",
      "10       0\n",
      "11       0\n",
      "12       0\n",
      "13       0\n",
      "14       1\n",
      "15       1\n",
      "16       1\n",
      "17       0\n",
      "18       1\n",
      "19       1\n",
      "20       1\n",
      "21       1\n",
      "22       1\n",
      "23       1\n",
      "24       1\n",
      "25       1\n",
      "26       0\n",
      "27       0\n",
      "28       1\n",
      "29       0\n",
      "        ..\n",
      "24970    0\n",
      "24971    1\n",
      "24972    0\n",
      "24973    1\n",
      "24974    1\n",
      "24975    0\n",
      "24976    0\n",
      "24977    0\n",
      "24978    1\n",
      "24979    0\n",
      "24980    0\n",
      "24981    1\n",
      "24982    1\n",
      "24983    1\n",
      "24984    0\n",
      "24985    0\n",
      "24986    1\n",
      "24987    0\n",
      "24988    0\n",
      "24989    1\n",
      "24990    0\n",
      "24991    1\n",
      "24992    0\n",
      "24993    1\n",
      "24994    0\n",
      "24995    0\n",
      "24996    0\n",
      "24997    0\n",
      "24998    0\n",
      "24999    0\n",
      "Name: class, Length: 25000, dtype: int64\n"
     ]
    }
   ],
   "source": [
    "replacement = {\n",
    "     'P' : 1,\n",
    "     'N' : 0\n",
    "}\n",
    "df_imdb_test['class'].replace(replacement, inplace=True)\n",
    "print(df_imdb_test['class'])\n",
    "df_imdb_train['class'].replace(replacement, inplace=True)\n",
    "print(df_imdb_train['class'])"
   ]
  },
  {
   "cell_type": "code",
   "execution_count": 62,
   "metadata": {},
   "outputs": [
    {
     "data": {
      "text/plain": [
       "array([[0, 1, 1, 1, 1, 1, 1, 1, 0, 0, 0, 1, 1, 1, 1, 1, 1, 1, 1, 1, 1, 1,\n",
       "        0, 1, 1, 0, 0, 1, 1, 0, 0, 1, 1, 1, 1, 1, 1, 1, 0, 1, 1, 1, 1, 1,\n",
       "        1, 0, 1, 1, 1, 1, 1, 1, 1, 0, 1, 1, 1, 0, 1, 1, 1, 1, 1, 0, 0, 0,\n",
       "        0, 0, 1, 0, 1, 0, 1, 1, 1, 1, 1, 0, 0, 1, 1, 1, 1, 0, 1, 1, 1, 0,\n",
       "        1, 1, 1, 1, 1, 1, 1, 1, 1, 0, 0, 1, 1, 1, 1, 1, 0, 1, 1, 1, 1, 1,\n",
       "        1, 0, 0, 1, 1, 1, 0, 1, 1, 1, 1, 1, 0, 1, 1, 1, 1, 0, 1, 1, 1, 0,\n",
       "        1, 1, 1, 1, 1, 1, 1, 1, 1, 1, 1, 0, 1, 1, 1, 1, 1, 1, 1, 1, 1, 0,\n",
       "        1, 1, 1, 1, 0, 1, 1, 1, 1, 1, 1, 1, 1, 1, 1, 1, 1, 1, 0, 1, 1, 0,\n",
       "        0, 0, 0, 1, 1, 1, 1, 1, 1, 1, 1, 1, 1, 0, 1, 1, 1, 0, 1, 1, 1, 1,\n",
       "        1, 1, 0, 1, 1, 1, 1, 0, 1, 0, 1, 1, 1, 1, 0, 1, 1, 1, 1, 0, 1, 0,\n",
       "        1, 1, 1, 0, 1, 1, 1, 1, 1, 1, 0, 1, 1, 1, 1, 1, 0, 1, 1, 0, 1, 1,\n",
       "        0, 0, 0, 1, 1, 1, 1, 1, 1, 1, 1, 1, 1, 1, 1, 0, 1, 1, 0, 1, 1, 1,\n",
       "        1, 1, 1, 1, 1, 0, 0, 1, 1, 1, 1, 1, 1, 1, 1, 0, 0, 1, 1, 1, 1, 0,\n",
       "        1, 1, 1, 0, 1, 0, 1, 1, 1, 1, 1, 1, 1, 1, 0, 1, 1, 1, 1, 1, 1, 1,\n",
       "        1, 1, 0, 0, 1, 1, 1, 0, 1, 1, 1, 0, 1, 1, 1, 1, 1, 0, 1, 1, 1, 0,\n",
       "        0, 1, 1, 1, 1, 1, 0, 1, 0, 1, 1, 1, 1, 1, 1, 1, 0, 1, 1, 1, 1, 1,\n",
       "        1, 1, 0, 1, 1, 1],\n",
       "       [1, 0, 0, 1, 0, 0, 0, 0, 1, 1, 1, 0, 0, 1, 0, 1, 0, 0, 0, 0, 1, 0,\n",
       "        1, 0, 0, 1, 1, 0, 1, 1, 1, 0, 0, 0, 0, 0, 0, 0, 1, 0, 0, 0, 0, 0,\n",
       "        0, 1, 0, 0, 0, 0, 0, 0, 0, 1, 0, 0, 0, 1, 0, 0, 0, 0, 0, 1, 1, 1,\n",
       "        1, 1, 0, 1, 0, 1, 0, 0, 0, 0, 0, 1, 1, 0, 0, 0, 0, 1, 0, 0, 0, 1,\n",
       "        0, 0, 0, 0, 0, 0, 0, 0, 0, 1, 1, 0, 0, 0, 0, 0, 1, 0, 1, 0, 0, 0,\n",
       "        0, 1, 1, 0, 0, 0, 1, 0, 0, 1, 0, 0, 1, 0, 0, 0, 0, 1, 0, 0, 0, 1,\n",
       "        0, 0, 0, 0, 0, 0, 0, 0, 0, 0, 1, 1, 0, 0, 0, 0, 0, 0, 0, 0, 0, 1,\n",
       "        0, 0, 0, 0, 1, 0, 0, 1, 0, 0, 0, 0, 0, 1, 0, 1, 1, 0, 1, 0, 0, 1,\n",
       "        1, 1, 1, 0, 1, 0, 0, 0, 0, 1, 0, 0, 0, 1, 0, 0, 0, 1, 0, 0, 0, 0,\n",
       "        0, 0, 1, 0, 0, 0, 0, 1, 0, 1, 0, 0, 0, 0, 1, 0, 1, 1, 0, 1, 1, 1,\n",
       "        0, 0, 0, 1, 1, 0, 0, 0, 0, 0, 1, 0, 0, 0, 0, 0, 1, 0, 0, 1, 0, 0,\n",
       "        1, 1, 1, 0, 0, 0, 0, 0, 0, 0, 0, 0, 0, 0, 0, 1, 0, 0, 1, 0, 0, 0,\n",
       "        0, 0, 0, 0, 0, 1, 1, 0, 0, 0, 0, 0, 0, 0, 0, 1, 1, 0, 0, 0, 0, 1,\n",
       "        0, 0, 0, 1, 0, 1, 0, 0, 0, 1, 0, 0, 0, 0, 1, 0, 0, 0, 0, 0, 0, 0,\n",
       "        1, 1, 1, 1, 0, 1, 0, 1, 0, 0, 1, 1, 0, 0, 0, 0, 0, 1, 0, 0, 0, 1,\n",
       "        1, 0, 0, 0, 1, 0, 1, 0, 1, 0, 0, 0, 1, 0, 0, 0, 1, 0, 1, 0, 0, 0,\n",
       "        0, 0, 1, 0, 0, 0]], dtype=int64)"
      ]
     },
     "execution_count": 62,
     "metadata": {},
     "output_type": "execute_result"
    }
   ],
   "source": [
    "from sklearn.feature_extraction.text import CountVectorizer\n",
    "\n",
    "s1 = \"If you hit your teens in the 70s as I did you probably remember the stories about Studio 54 whether or not you liked disco. An exclusive club it was the perfect symbol of 70s cultural overindulgence and self-absorption; theres even an excellent VH1 documentary about the club that could tell you everything you wanted to know about its heyday and the stories are easily interesting enough to spawn a very captivating film. Sadly this isnt it. 54 follows the lives of a few of its employees a bartender named Shane (Ryan Phillippe) a busboy named Greg (Breckin Meyer) his wife a coat-check girl Anita (Selma Hayek) and of course the master of ceremonies himself Steve Rubell (Mike Meyers). While the goings-on at the club are well represented this film concerns itself more with the personal lives of the workers following Shanes story the closest. The movie works in spurts. Sometimes it captures perfectly the shallowness of the nightlife culture (such as when Shane is taken to a dinner party and doesnt know who Errol Flynt is) and other times it waxes into hokey melodrama. Some of that is inherent in the premise Â– following the underlings as they mingle in the world of the rich and fabulous Â– but a lot of it is due to the kid-gloved treatment with which both the club and Rubell are given throughout the movie. While Rubell certainly electrified the scene in New York with his penchant for over-the-top spectacle and his exclusive hand-picking of the crowds each night the rampant drugs and sexuality are only briefly touched on; and Rubell himself while his excesses are mentioned come off oddly positive for a guy who was in life a liar a cheat a drug abuser and promiscuous as all hell. Not that I was looking for the man to be pilloried here but his ego directly contributed to the fall of his club and the diminishing of the nightlife culture he helped to elevate. A final scene where he gazes down at the regulars paternally is so emotionally false as to be patently absurd. Meyers does his best to capture Rubell but hes given so little to work with here its surprising his performance is effective; but hes good and he helps to anchor the film. Philippe whom I find generally to be a good actor is hamstrung here by the shallowness and stupidity of his character; hes limited to a deer-in-the-headlights smile or a sullen uncomprehending frown and even he cant translate that into a strong performance. Hayek and Meyer are both okay again undercut by the writing and Neve Campbell Â– prominently featured on the DVD cover Â– appears so briefly she really has an extended cameo. For some reason I still find myself interested even fascinated by the popular culture of the second half of the seventies. But even given that this is not a film that particularly engaged me despite a predisposition to like it. Id say if that era or that club has any interest for you track down the VH1 special rather than this middle-of-the-road melodrama.\"\n",
    "s2 = \"Excellent endearing film with Peter Falk and Paul Reiser joining forces as father and dad. Dad shows up one evening to state that after over 40 years of marriage mom (Olympia Dukakis) has left him. The rest of the film depicts the father and son on a day trip to get dads thoughts off what has occurred. With them away the daughters can play detectives. The story shows the adventures of father and son in their discussion of life what should have been why mom was complaining about dad as they discuss their philosophies of life. We see an unexpected fishing trip and pool playing which leads to a near brawl. Both men seem to break out of their daily lives. The end is a downer as we learn why mom suddenly left. It becomes a story of courage and the human spirit in the face of adversity. Its never too late to change.\"\n",
    "\n",
    "vect = CountVectorizer(binary=True)\n",
    "X_train = vect.fit_transform([s1, s2])\n",
    "\n",
    "X_train.toarray()\n",
    "#checking sample input #"
   ]
  },
  {
   "cell_type": "code",
   "execution_count": 63,
   "metadata": {},
   "outputs": [
    {
     "data": {
      "text/plain": [
       "[(0, '40'),\n",
       " (1, '54'),\n",
       " (1, '70s'),\n",
       " (1, 'about'),\n",
       " (1, 'absorption'),\n",
       " (1, 'absurd'),\n",
       " (1, 'abuser'),\n",
       " (1, 'actor'),\n",
       " (0, 'adventures'),\n",
       " (0, 'adversity'),\n",
       " (0, 'after'),\n",
       " (1, 'again'),\n",
       " (1, 'all'),\n",
       " (1, 'an'),\n",
       " (1, 'anchor'),\n",
       " (1, 'and'),\n",
       " (1, 'anita'),\n",
       " (1, 'any'),\n",
       " (1, 'appears'),\n",
       " (1, 'are'),\n",
       " (1, 'as'),\n",
       " (1, 'at'),\n",
       " (0, 'away'),\n",
       " (1, 'bartender'),\n",
       " (1, 'be'),\n",
       " (0, 'becomes'),\n",
       " (0, 'been'),\n",
       " (1, 'best'),\n",
       " (1, 'both'),\n",
       " (0, 'brawl'),\n",
       " (0, 'break'),\n",
       " (1, 'breckin'),\n",
       " (1, 'briefly'),\n",
       " (1, 'busboy'),\n",
       " (1, 'but'),\n",
       " (1, 'by'),\n",
       " (1, 'cameo'),\n",
       " (1, 'campbell'),\n",
       " (0, 'can'),\n",
       " (1, 'cant'),\n",
       " (1, 'captivating'),\n",
       " (1, 'capture'),\n",
       " (1, 'captures'),\n",
       " (1, 'ceremonies'),\n",
       " (1, 'certainly'),\n",
       " (0, 'change'),\n",
       " (1, 'character'),\n",
       " (1, 'cheat'),\n",
       " (1, 'check'),\n",
       " (1, 'closest'),\n",
       " (1, 'club'),\n",
       " (1, 'coat'),\n",
       " (1, 'come'),\n",
       " (0, 'complaining'),\n",
       " (1, 'concerns'),\n",
       " (1, 'contributed'),\n",
       " (1, 'could'),\n",
       " (0, 'courage'),\n",
       " (1, 'course'),\n",
       " (1, 'cover'),\n",
       " (1, 'crowds'),\n",
       " (1, 'cultural'),\n",
       " (1, 'culture'),\n",
       " (0, 'dad'),\n",
       " (0, 'dads'),\n",
       " (0, 'daily'),\n",
       " (0, 'daughters'),\n",
       " (0, 'day'),\n",
       " (1, 'deer'),\n",
       " (0, 'depicts'),\n",
       " (1, 'despite'),\n",
       " (0, 'detectives'),\n",
       " (1, 'did'),\n",
       " (1, 'diminishing'),\n",
       " (1, 'dinner'),\n",
       " (1, 'directly'),\n",
       " (1, 'disco'),\n",
       " (0, 'discuss'),\n",
       " (0, 'discussion'),\n",
       " (1, 'documentary'),\n",
       " (1, 'does'),\n",
       " (1, 'doesnt'),\n",
       " (1, 'down'),\n",
       " (0, 'downer'),\n",
       " (1, 'drug'),\n",
       " (1, 'drugs'),\n",
       " (1, 'due'),\n",
       " (0, 'dukakis'),\n",
       " (1, 'dvd'),\n",
       " (1, 'each'),\n",
       " (1, 'easily'),\n",
       " (1, 'effective'),\n",
       " (1, 'ego'),\n",
       " (1, 'electrified'),\n",
       " (1, 'elevate'),\n",
       " (1, 'emotionally'),\n",
       " (1, 'employees'),\n",
       " (0, 'end'),\n",
       " (0, 'endearing'),\n",
       " (1, 'engaged'),\n",
       " (1, 'enough'),\n",
       " (1, 'era'),\n",
       " (1, 'errol'),\n",
       " (1, 'even'),\n",
       " (0, 'evening'),\n",
       " (1, 'everything'),\n",
       " (1, 'excellent'),\n",
       " (1, 'excesses'),\n",
       " (1, 'exclusive'),\n",
       " (1, 'extended'),\n",
       " (1, 'fabulous'),\n",
       " (0, 'face'),\n",
       " (0, 'falk'),\n",
       " (1, 'fall'),\n",
       " (1, 'false'),\n",
       " (1, 'fascinated'),\n",
       " (0, 'father'),\n",
       " (1, 'featured'),\n",
       " (1, 'few'),\n",
       " (1, 'film'),\n",
       " (1, 'final'),\n",
       " (1, 'find'),\n",
       " (0, 'fishing'),\n",
       " (1, 'flynt'),\n",
       " (1, 'following'),\n",
       " (1, 'follows'),\n",
       " (1, 'for'),\n",
       " (0, 'forces'),\n",
       " (1, 'frown'),\n",
       " (1, 'gazes'),\n",
       " (1, 'generally'),\n",
       " (0, 'get'),\n",
       " (1, 'girl'),\n",
       " (1, 'given'),\n",
       " (1, 'gloved'),\n",
       " (1, 'goings'),\n",
       " (1, 'good'),\n",
       " (1, 'greg'),\n",
       " (1, 'guy'),\n",
       " (1, 'half'),\n",
       " (1, 'hamstrung'),\n",
       " (1, 'hand'),\n",
       " (1, 'has'),\n",
       " (0, 'have'),\n",
       " (1, 'hayek'),\n",
       " (1, 'he'),\n",
       " (1, 'headlights'),\n",
       " (1, 'hell'),\n",
       " (1, 'helped'),\n",
       " (1, 'helps'),\n",
       " (1, 'here'),\n",
       " (1, 'hes'),\n",
       " (1, 'heyday'),\n",
       " (0, 'him'),\n",
       " (1, 'himself'),\n",
       " (1, 'his'),\n",
       " (1, 'hit'),\n",
       " (1, 'hokey'),\n",
       " (0, 'human'),\n",
       " (1, 'id'),\n",
       " (1, 'if'),\n",
       " (1, 'in'),\n",
       " (1, 'inherent'),\n",
       " (1, 'interest'),\n",
       " (1, 'interested'),\n",
       " (1, 'interesting'),\n",
       " (1, 'into'),\n",
       " (1, 'is'),\n",
       " (1, 'isnt'),\n",
       " (1, 'it'),\n",
       " (1, 'its'),\n",
       " (1, 'itself'),\n",
       " (0, 'joining'),\n",
       " (1, 'kid'),\n",
       " (1, 'know'),\n",
       " (0, 'late'),\n",
       " (0, 'leads'),\n",
       " (0, 'learn'),\n",
       " (0, 'left'),\n",
       " (1, 'liar'),\n",
       " (1, 'life'),\n",
       " (1, 'like'),\n",
       " (1, 'liked'),\n",
       " (1, 'limited'),\n",
       " (1, 'little'),\n",
       " (1, 'lives'),\n",
       " (1, 'looking'),\n",
       " (1, 'lot'),\n",
       " (1, 'man'),\n",
       " (0, 'marriage'),\n",
       " (1, 'master'),\n",
       " (1, 'me'),\n",
       " (1, 'melodrama'),\n",
       " (0, 'men'),\n",
       " (1, 'mentioned'),\n",
       " (1, 'meyer'),\n",
       " (1, 'meyers'),\n",
       " (1, 'middle'),\n",
       " (1, 'mike'),\n",
       " (1, 'mingle'),\n",
       " (0, 'mom'),\n",
       " (1, 'more'),\n",
       " (1, 'movie'),\n",
       " (1, 'myself'),\n",
       " (1, 'named'),\n",
       " (0, 'near'),\n",
       " (1, 'neve'),\n",
       " (0, 'never'),\n",
       " (1, 'new'),\n",
       " (1, 'night'),\n",
       " (1, 'nightlife'),\n",
       " (1, 'not'),\n",
       " (0, 'occurred'),\n",
       " (1, 'oddly'),\n",
       " (1, 'of'),\n",
       " (1, 'off'),\n",
       " (1, 'okay'),\n",
       " (0, 'olympia'),\n",
       " (1, 'on'),\n",
       " (0, 'one'),\n",
       " (1, 'only'),\n",
       " (1, 'or'),\n",
       " (1, 'other'),\n",
       " (0, 'out'),\n",
       " (1, 'over'),\n",
       " (1, 'overindulgence'),\n",
       " (1, 'particularly'),\n",
       " (1, 'party'),\n",
       " (1, 'patently'),\n",
       " (1, 'paternally'),\n",
       " (0, 'paul'),\n",
       " (1, 'penchant'),\n",
       " (1, 'perfect'),\n",
       " (1, 'perfectly'),\n",
       " (1, 'performance'),\n",
       " (1, 'personal'),\n",
       " (0, 'peter'),\n",
       " (1, 'philippe'),\n",
       " (1, 'phillippe'),\n",
       " (0, 'philosophies'),\n",
       " (1, 'picking'),\n",
       " (1, 'pilloried'),\n",
       " (0, 'play'),\n",
       " (0, 'playing'),\n",
       " (0, 'pool'),\n",
       " (1, 'popular'),\n",
       " (1, 'positive'),\n",
       " (1, 'predisposition'),\n",
       " (1, 'premise'),\n",
       " (1, 'probably'),\n",
       " (1, 'prominently'),\n",
       " (1, 'promiscuous'),\n",
       " (1, 'rampant'),\n",
       " (1, 'rather'),\n",
       " (1, 'really'),\n",
       " (1, 'reason'),\n",
       " (1, 'regulars'),\n",
       " (0, 'reiser'),\n",
       " (1, 'remember'),\n",
       " (1, 'represented'),\n",
       " (0, 'rest'),\n",
       " (1, 'rich'),\n",
       " (1, 'road'),\n",
       " (1, 'rubell'),\n",
       " (1, 'ryan'),\n",
       " (1, 'sadly'),\n",
       " (1, 'say'),\n",
       " (1, 'scene'),\n",
       " (1, 'second'),\n",
       " (0, 'see'),\n",
       " (0, 'seem'),\n",
       " (1, 'self'),\n",
       " (1, 'selma'),\n",
       " (1, 'seventies'),\n",
       " (1, 'sexuality'),\n",
       " (1, 'shallowness'),\n",
       " (1, 'shane'),\n",
       " (1, 'shanes'),\n",
       " (1, 'she'),\n",
       " (0, 'should'),\n",
       " (0, 'shows'),\n",
       " (1, 'smile'),\n",
       " (1, 'so'),\n",
       " (1, 'some'),\n",
       " (1, 'sometimes'),\n",
       " (0, 'son'),\n",
       " (1, 'spawn'),\n",
       " (1, 'special'),\n",
       " (1, 'spectacle'),\n",
       " (0, 'spirit'),\n",
       " (1, 'spurts'),\n",
       " (0, 'state'),\n",
       " (1, 'steve'),\n",
       " (1, 'still'),\n",
       " (1, 'stories'),\n",
       " (1, 'story'),\n",
       " (1, 'strong'),\n",
       " (1, 'studio'),\n",
       " (1, 'stupidity'),\n",
       " (1, 'such'),\n",
       " (0, 'suddenly'),\n",
       " (1, 'sullen'),\n",
       " (1, 'surprising'),\n",
       " (1, 'symbol'),\n",
       " (1, 'taken'),\n",
       " (1, 'teens'),\n",
       " (1, 'tell'),\n",
       " (1, 'than'),\n",
       " (1, 'that'),\n",
       " (1, 'the'),\n",
       " (0, 'their'),\n",
       " (0, 'them'),\n",
       " (1, 'theres'),\n",
       " (1, 'they'),\n",
       " (1, 'this'),\n",
       " (0, 'thoughts'),\n",
       " (1, 'throughout'),\n",
       " (1, 'times'),\n",
       " (1, 'to'),\n",
       " (0, 'too'),\n",
       " (1, 'top'),\n",
       " (1, 'touched'),\n",
       " (1, 'track'),\n",
       " (1, 'translate'),\n",
       " (1, 'treatment'),\n",
       " (0, 'trip'),\n",
       " (1, 'uncomprehending'),\n",
       " (1, 'undercut'),\n",
       " (1, 'underlings'),\n",
       " (0, 'unexpected'),\n",
       " (0, 'up'),\n",
       " (1, 'very'),\n",
       " (1, 'vh1'),\n",
       " (1, 'wanted'),\n",
       " (1, 'was'),\n",
       " (1, 'waxes'),\n",
       " (0, 'we'),\n",
       " (1, 'well'),\n",
       " (0, 'what'),\n",
       " (1, 'when'),\n",
       " (1, 'where'),\n",
       " (1, 'whether'),\n",
       " (1, 'which'),\n",
       " (1, 'while'),\n",
       " (1, 'who'),\n",
       " (1, 'whom'),\n",
       " (0, 'why'),\n",
       " (1, 'wife'),\n",
       " (1, 'with'),\n",
       " (1, 'work'),\n",
       " (1, 'workers'),\n",
       " (1, 'works'),\n",
       " (1, 'world'),\n",
       " (1, 'writing'),\n",
       " (0, 'years'),\n",
       " (1, 'york'),\n",
       " (1, 'you'),\n",
       " (1, 'your')]"
      ]
     },
     "execution_count": 63,
     "metadata": {},
     "output_type": "execute_result"
    }
   ],
   "source": [
    "list(zip(X_train.toarray()[0], vect.get_feature_names()))"
   ]
  },
  {
   "cell_type": "code",
   "execution_count": 64,
   "metadata": {},
   "outputs": [
    {
     "data": {
      "text/plain": [
       "[(1, '40'),\n",
       " (0, '54'),\n",
       " (0, '70s'),\n",
       " (1, 'about'),\n",
       " (0, 'absorption'),\n",
       " (0, 'absurd'),\n",
       " (0, 'abuser'),\n",
       " (0, 'actor'),\n",
       " (1, 'adventures'),\n",
       " (1, 'adversity'),\n",
       " (1, 'after'),\n",
       " (0, 'again'),\n",
       " (0, 'all'),\n",
       " (1, 'an'),\n",
       " (0, 'anchor'),\n",
       " (1, 'and'),\n",
       " (0, 'anita'),\n",
       " (0, 'any'),\n",
       " (0, 'appears'),\n",
       " (0, 'are'),\n",
       " (1, 'as'),\n",
       " (0, 'at'),\n",
       " (1, 'away'),\n",
       " (0, 'bartender'),\n",
       " (0, 'be'),\n",
       " (1, 'becomes'),\n",
       " (1, 'been'),\n",
       " (0, 'best'),\n",
       " (1, 'both'),\n",
       " (1, 'brawl'),\n",
       " (1, 'break'),\n",
       " (0, 'breckin'),\n",
       " (0, 'briefly'),\n",
       " (0, 'busboy'),\n",
       " (0, 'but'),\n",
       " (0, 'by'),\n",
       " (0, 'cameo'),\n",
       " (0, 'campbell'),\n",
       " (1, 'can'),\n",
       " (0, 'cant'),\n",
       " (0, 'captivating'),\n",
       " (0, 'capture'),\n",
       " (0, 'captures'),\n",
       " (0, 'ceremonies'),\n",
       " (0, 'certainly'),\n",
       " (1, 'change'),\n",
       " (0, 'character'),\n",
       " (0, 'cheat'),\n",
       " (0, 'check'),\n",
       " (0, 'closest'),\n",
       " (0, 'club'),\n",
       " (0, 'coat'),\n",
       " (0, 'come'),\n",
       " (1, 'complaining'),\n",
       " (0, 'concerns'),\n",
       " (0, 'contributed'),\n",
       " (0, 'could'),\n",
       " (1, 'courage'),\n",
       " (0, 'course'),\n",
       " (0, 'cover'),\n",
       " (0, 'crowds'),\n",
       " (0, 'cultural'),\n",
       " (0, 'culture'),\n",
       " (1, 'dad'),\n",
       " (1, 'dads'),\n",
       " (1, 'daily'),\n",
       " (1, 'daughters'),\n",
       " (1, 'day'),\n",
       " (0, 'deer'),\n",
       " (1, 'depicts'),\n",
       " (0, 'despite'),\n",
       " (1, 'detectives'),\n",
       " (0, 'did'),\n",
       " (0, 'diminishing'),\n",
       " (0, 'dinner'),\n",
       " (0, 'directly'),\n",
       " (0, 'disco'),\n",
       " (1, 'discuss'),\n",
       " (1, 'discussion'),\n",
       " (0, 'documentary'),\n",
       " (0, 'does'),\n",
       " (0, 'doesnt'),\n",
       " (0, 'down'),\n",
       " (1, 'downer'),\n",
       " (0, 'drug'),\n",
       " (0, 'drugs'),\n",
       " (0, 'due'),\n",
       " (1, 'dukakis'),\n",
       " (0, 'dvd'),\n",
       " (0, 'each'),\n",
       " (0, 'easily'),\n",
       " (0, 'effective'),\n",
       " (0, 'ego'),\n",
       " (0, 'electrified'),\n",
       " (0, 'elevate'),\n",
       " (0, 'emotionally'),\n",
       " (0, 'employees'),\n",
       " (1, 'end'),\n",
       " (1, 'endearing'),\n",
       " (0, 'engaged'),\n",
       " (0, 'enough'),\n",
       " (0, 'era'),\n",
       " (0, 'errol'),\n",
       " (0, 'even'),\n",
       " (1, 'evening'),\n",
       " (0, 'everything'),\n",
       " (1, 'excellent'),\n",
       " (0, 'excesses'),\n",
       " (0, 'exclusive'),\n",
       " (0, 'extended'),\n",
       " (0, 'fabulous'),\n",
       " (1, 'face'),\n",
       " (1, 'falk'),\n",
       " (0, 'fall'),\n",
       " (0, 'false'),\n",
       " (0, 'fascinated'),\n",
       " (1, 'father'),\n",
       " (0, 'featured'),\n",
       " (0, 'few'),\n",
       " (1, 'film'),\n",
       " (0, 'final'),\n",
       " (0, 'find'),\n",
       " (1, 'fishing'),\n",
       " (0, 'flynt'),\n",
       " (0, 'following'),\n",
       " (0, 'follows'),\n",
       " (0, 'for'),\n",
       " (1, 'forces'),\n",
       " (0, 'frown'),\n",
       " (0, 'gazes'),\n",
       " (0, 'generally'),\n",
       " (1, 'get'),\n",
       " (0, 'girl'),\n",
       " (0, 'given'),\n",
       " (0, 'gloved'),\n",
       " (0, 'goings'),\n",
       " (0, 'good'),\n",
       " (0, 'greg'),\n",
       " (0, 'guy'),\n",
       " (0, 'half'),\n",
       " (0, 'hamstrung'),\n",
       " (0, 'hand'),\n",
       " (1, 'has'),\n",
       " (1, 'have'),\n",
       " (0, 'hayek'),\n",
       " (0, 'he'),\n",
       " (0, 'headlights'),\n",
       " (0, 'hell'),\n",
       " (0, 'helped'),\n",
       " (0, 'helps'),\n",
       " (0, 'here'),\n",
       " (0, 'hes'),\n",
       " (0, 'heyday'),\n",
       " (1, 'him'),\n",
       " (0, 'himself'),\n",
       " (0, 'his'),\n",
       " (0, 'hit'),\n",
       " (0, 'hokey'),\n",
       " (1, 'human'),\n",
       " (0, 'id'),\n",
       " (0, 'if'),\n",
       " (1, 'in'),\n",
       " (0, 'inherent'),\n",
       " (0, 'interest'),\n",
       " (0, 'interested'),\n",
       " (0, 'interesting'),\n",
       " (0, 'into'),\n",
       " (1, 'is'),\n",
       " (0, 'isnt'),\n",
       " (1, 'it'),\n",
       " (1, 'its'),\n",
       " (0, 'itself'),\n",
       " (1, 'joining'),\n",
       " (0, 'kid'),\n",
       " (0, 'know'),\n",
       " (1, 'late'),\n",
       " (1, 'leads'),\n",
       " (1, 'learn'),\n",
       " (1, 'left'),\n",
       " (0, 'liar'),\n",
       " (1, 'life'),\n",
       " (0, 'like'),\n",
       " (0, 'liked'),\n",
       " (0, 'limited'),\n",
       " (0, 'little'),\n",
       " (1, 'lives'),\n",
       " (0, 'looking'),\n",
       " (0, 'lot'),\n",
       " (0, 'man'),\n",
       " (1, 'marriage'),\n",
       " (0, 'master'),\n",
       " (0, 'me'),\n",
       " (0, 'melodrama'),\n",
       " (1, 'men'),\n",
       " (0, 'mentioned'),\n",
       " (0, 'meyer'),\n",
       " (0, 'meyers'),\n",
       " (0, 'middle'),\n",
       " (0, 'mike'),\n",
       " (0, 'mingle'),\n",
       " (1, 'mom'),\n",
       " (0, 'more'),\n",
       " (0, 'movie'),\n",
       " (0, 'myself'),\n",
       " (0, 'named'),\n",
       " (1, 'near'),\n",
       " (0, 'neve'),\n",
       " (1, 'never'),\n",
       " (0, 'new'),\n",
       " (0, 'night'),\n",
       " (0, 'nightlife'),\n",
       " (0, 'not'),\n",
       " (1, 'occurred'),\n",
       " (0, 'oddly'),\n",
       " (1, 'of'),\n",
       " (1, 'off'),\n",
       " (0, 'okay'),\n",
       " (1, 'olympia'),\n",
       " (1, 'on'),\n",
       " (1, 'one'),\n",
       " (0, 'only'),\n",
       " (0, 'or'),\n",
       " (0, 'other'),\n",
       " (1, 'out'),\n",
       " (1, 'over'),\n",
       " (0, 'overindulgence'),\n",
       " (0, 'particularly'),\n",
       " (0, 'party'),\n",
       " (0, 'patently'),\n",
       " (0, 'paternally'),\n",
       " (1, 'paul'),\n",
       " (0, 'penchant'),\n",
       " (0, 'perfect'),\n",
       " (0, 'perfectly'),\n",
       " (0, 'performance'),\n",
       " (0, 'personal'),\n",
       " (1, 'peter'),\n",
       " (0, 'philippe'),\n",
       " (0, 'phillippe'),\n",
       " (1, 'philosophies'),\n",
       " (0, 'picking'),\n",
       " (0, 'pilloried'),\n",
       " (1, 'play'),\n",
       " (1, 'playing'),\n",
       " (1, 'pool'),\n",
       " (0, 'popular'),\n",
       " (0, 'positive'),\n",
       " (0, 'predisposition'),\n",
       " (0, 'premise'),\n",
       " (0, 'probably'),\n",
       " (0, 'prominently'),\n",
       " (0, 'promiscuous'),\n",
       " (0, 'rampant'),\n",
       " (0, 'rather'),\n",
       " (0, 'really'),\n",
       " (0, 'reason'),\n",
       " (0, 'regulars'),\n",
       " (1, 'reiser'),\n",
       " (0, 'remember'),\n",
       " (0, 'represented'),\n",
       " (1, 'rest'),\n",
       " (0, 'rich'),\n",
       " (0, 'road'),\n",
       " (0, 'rubell'),\n",
       " (0, 'ryan'),\n",
       " (0, 'sadly'),\n",
       " (0, 'say'),\n",
       " (0, 'scene'),\n",
       " (0, 'second'),\n",
       " (1, 'see'),\n",
       " (1, 'seem'),\n",
       " (0, 'self'),\n",
       " (0, 'selma'),\n",
       " (0, 'seventies'),\n",
       " (0, 'sexuality'),\n",
       " (0, 'shallowness'),\n",
       " (0, 'shane'),\n",
       " (0, 'shanes'),\n",
       " (0, 'she'),\n",
       " (1, 'should'),\n",
       " (1, 'shows'),\n",
       " (0, 'smile'),\n",
       " (0, 'so'),\n",
       " (0, 'some'),\n",
       " (0, 'sometimes'),\n",
       " (1, 'son'),\n",
       " (0, 'spawn'),\n",
       " (0, 'special'),\n",
       " (0, 'spectacle'),\n",
       " (1, 'spirit'),\n",
       " (0, 'spurts'),\n",
       " (1, 'state'),\n",
       " (0, 'steve'),\n",
       " (0, 'still'),\n",
       " (0, 'stories'),\n",
       " (1, 'story'),\n",
       " (0, 'strong'),\n",
       " (0, 'studio'),\n",
       " (0, 'stupidity'),\n",
       " (0, 'such'),\n",
       " (1, 'suddenly'),\n",
       " (0, 'sullen'),\n",
       " (0, 'surprising'),\n",
       " (0, 'symbol'),\n",
       " (0, 'taken'),\n",
       " (0, 'teens'),\n",
       " (0, 'tell'),\n",
       " (0, 'than'),\n",
       " (1, 'that'),\n",
       " (1, 'the'),\n",
       " (1, 'their'),\n",
       " (1, 'them'),\n",
       " (0, 'theres'),\n",
       " (1, 'they'),\n",
       " (0, 'this'),\n",
       " (1, 'thoughts'),\n",
       " (0, 'throughout'),\n",
       " (0, 'times'),\n",
       " (1, 'to'),\n",
       " (1, 'too'),\n",
       " (0, 'top'),\n",
       " (0, 'touched'),\n",
       " (0, 'track'),\n",
       " (0, 'translate'),\n",
       " (0, 'treatment'),\n",
       " (1, 'trip'),\n",
       " (0, 'uncomprehending'),\n",
       " (0, 'undercut'),\n",
       " (0, 'underlings'),\n",
       " (1, 'unexpected'),\n",
       " (1, 'up'),\n",
       " (0, 'very'),\n",
       " (0, 'vh1'),\n",
       " (0, 'wanted'),\n",
       " (1, 'was'),\n",
       " (0, 'waxes'),\n",
       " (1, 'we'),\n",
       " (0, 'well'),\n",
       " (1, 'what'),\n",
       " (0, 'when'),\n",
       " (0, 'where'),\n",
       " (0, 'whether'),\n",
       " (1, 'which'),\n",
       " (0, 'while'),\n",
       " (0, 'who'),\n",
       " (0, 'whom'),\n",
       " (1, 'why'),\n",
       " (0, 'wife'),\n",
       " (1, 'with'),\n",
       " (0, 'work'),\n",
       " (0, 'workers'),\n",
       " (0, 'works'),\n",
       " (0, 'world'),\n",
       " (0, 'writing'),\n",
       " (1, 'years'),\n",
       " (0, 'york'),\n",
       " (0, 'you'),\n",
       " (0, 'your')]"
      ]
     },
     "execution_count": 64,
     "metadata": {},
     "output_type": "execute_result"
    }
   ],
   "source": [
    "list(zip(X_train.toarray()[1], vect.get_feature_names()))"
   ]
  },
  {
   "cell_type": "code",
   "execution_count": null,
   "metadata": {},
   "outputs": [],
   "source": [
    "from sklearn.metrics import confusion_matrix\n",
    "import seaborn as sns\n",
    "conf_mat = confusion_matrix(y_test, y_pred)\n",
    "fig, ax = plt.subplots(figsize=(8,8))\n",
    "sns.heatmap(conf_mat, annot=True, fmt='d',\n",
    "            xticklabels=category_id_df.Product.values, yticklabels=category_id_df.Product.values)\n",
    "plt.ylabel('Actual')\n",
    "plt.xlabel('Predicted')\n",
    "plt.show()\n",
    "\n",
    "\n",
    "#higher the sum of the diagonal values better is the performance of the model, in this case we pbserve that our diagonal values are \n",
    "#quite high, which indicates a very good accuracy of the model\n",
    "# the sum of the off-diagonal values on the other hand indicate error rate which is very low for our model hence this is a prett accurate model."
   ]
  },
  {
   "cell_type": "code",
   "execution_count": 65,
   "metadata": {
    "scrolled": true
   },
   "outputs": [
    {
     "data": {
      "text/plain": [
       "array([[0, 0, 1, ..., 0, 0, 0],\n",
       "       [0, 0, 0, ..., 0, 0, 0],\n",
       "       [0, 0, 0, ..., 0, 0, 0],\n",
       "       ...,\n",
       "       [0, 1, 0, ..., 0, 0, 0],\n",
       "       [1, 0, 0, ..., 0, 0, 0],\n",
       "       [0, 0, 0, ..., 0, 0, 0]], dtype=int64)"
      ]
     },
     "execution_count": 65,
     "metadata": {},
     "output_type": "execute_result"
    }
   ],
   "source": [
    "vect = CountVectorizer(max_features=1000, binary=True)\n",
    "X_train = vect.fit_transform(df_imdb_train.text)\n",
    "\n",
    "X_train.toarray()"
   ]
  },
  {
   "cell_type": "code",
   "execution_count": 66,
   "metadata": {},
   "outputs": [],
   "source": [
    "X_train = df_imdb_train['text']\n",
    "y_train = df_imdb_train['class']\n",
    "X_test = df_imdb_test['text'] \n",
    "y_test = df_imdb_test['class'] "
   ]
  },
  {
   "cell_type": "code",
   "execution_count": 67,
   "metadata": {},
   "outputs": [],
   "source": [
    "from sklearn.feature_extraction.text import CountVectorizer\n",
    "\n",
    "vect = CountVectorizer(max_features=1000, binary=True)\n",
    "\n",
    "X_train_vect = vect.fit_transform(X_train)"
   ]
  },
  {
   "cell_type": "code",
   "execution_count": 68,
   "metadata": {},
   "outputs": [
    {
     "name": "stdout",
     "output_type": "stream",
     "text": [
      "1    12500\n",
      "0    12500\n",
      "Name: class, dtype: int64\n",
      "\n",
      "Predicting only positive = 50.00% accuracy\n"
     ]
    }
   ],
   "source": [
    "counts = df_imdb_train['class'].value_counts()\n",
    "print(counts)\n",
    "\n",
    "print(\"\\nPredicting only positive = {:.2f}% accuracy\".format(counts[1] / sum(counts) * 100))"
   ]
  },
  {
   "cell_type": "code",
   "execution_count": 69,
   "metadata": {},
   "outputs": [
    {
     "data": {
      "text/plain": [
       "0.83368"
      ]
     },
     "execution_count": 69,
     "metadata": {},
     "output_type": "execute_result"
    }
   ],
   "source": [
    "from sklearn.naive_bayes import MultinomialNB\n",
    "\n",
    "nb = MultinomialNB()\n",
    "\n",
    "nb.fit(X_train_vect, y_train)\n",
    "\n",
    "nb.score(X_train_vect, y_train)"
   ]
  },
  {
   "cell_type": "code",
   "execution_count": 70,
   "metadata": {},
   "outputs": [
    {
     "data": {
      "text/plain": [
       "array([1, 0, 1, ..., 0, 0, 0], dtype=int64)"
      ]
     },
     "execution_count": 70,
     "metadata": {},
     "output_type": "execute_result"
    }
   ],
   "source": [
    "X_test_vect = vect.transform(X_test)\n",
    "\n",
    "y_pred = nb.predict(X_test_vect)\n",
    "\n",
    "y_pred"
   ]
  },
  {
   "cell_type": "code",
   "execution_count": 71,
   "metadata": {},
   "outputs": [
    {
     "name": "stdout",
     "output_type": "stream",
     "text": [
      "<class 'numpy.ndarray'>\n"
     ]
    }
   ],
   "source": [
    "Y_test = y_test.values.astype(int)\n",
    "print(type(Y_test))\n"
   ]
  },
  {
   "cell_type": "code",
   "execution_count": 72,
   "metadata": {},
   "outputs": [
    {
     "name": "stdout",
     "output_type": "stream",
     "text": [
      "[1 0 1 ... 0 0 0]\n"
     ]
    }
   ],
   "source": [
    "print(Y_test)"
   ]
  },
  {
   "cell_type": "code",
   "execution_count": 73,
   "metadata": {
    "scrolled": true
   },
   "outputs": [
    {
     "name": "stdout",
     "output_type": "stream",
     "text": [
      "Accuracy: 83.13%\n"
     ]
    }
   ],
   "source": [
    "from sklearn.metrics import accuracy_score\n",
    "\n",
    "print(\"Accuracy: {:.2f}%\".format(accuracy_score(Y_test, y_pred) * 100))\n"
   ]
  },
  {
   "cell_type": "markdown",
   "metadata": {},
   "source": [
    "__2. Build a Bernoulli Naive Bayes model to classify reviews according to their sentiment using a binary count vectorizer (check out the text mining module in the class notebooks if you do not know what this question is talking about). Test its accuracy on the test data. Is it good compared to just predicting a positive sentiment for all reviews?__"
   ]
  },
  {
   "cell_type": "code",
   "execution_count": 23,
   "metadata": {},
   "outputs": [],
   "source": [
    "#Predicting only positive = 50.00% accuracy but actual accuracy is 83.13% hence it's not a good idea to just compare the postive sentiments"
   ]
  },
  {
   "cell_type": "markdown",
   "metadata": {},
   "source": [
    "__3. Pick a few reviews in the test set that were incorrectly classified and read them through.  Are there any words in these misclassified reviews that may have misled the classifier?  Explain with at least three examples for each type of error (i.e., false positive and false negative).__\n",
    "* For example: Instance number X contains the sentence, “Even her worst . . . I will stop here to avoid the spoiler.”  Even though this is actually positive, it was classified as a negative review; I would guess that this is due to the word “worst” in the review."
   ]
  },
  {
   "cell_type": "code",
   "execution_count": 226,
   "metadata": {},
   "outputs": [
    {
     "data": {
      "text/plain": [
       "array([1, 0, 1, 0, 1, 1, 0, 0, 1, 1, 0, 0, 0, 0, 0, 1, 0, 0, 0, 1, 1, 1,\n",
       "       1, 0, 0, 1, 1, 0, 0, 0], dtype=int64)"
      ]
     },
     "execution_count": 226,
     "metadata": {},
     "output_type": "execute_result"
    }
   ],
   "source": [
    "y_pred[:30]"
   ]
  },
  {
   "cell_type": "code",
   "execution_count": 227,
   "metadata": {},
   "outputs": [
    {
     "data": {
      "text/plain": [
       "array([1, 0, 1, 0, 0, 1, 0, 0, 1, 1, 0, 1, 0, 0, 0, 1, 0, 0, 0, 1, 1, 1,\n",
       "       1, 0, 1, 1, 0, 1, 0, 0])"
      ]
     },
     "execution_count": 227,
     "metadata": {},
     "output_type": "execute_result"
    }
   ],
   "source": [
    "Y_test[:30]"
   ]
  },
  {
   "cell_type": "code",
   "execution_count": 228,
   "metadata": {},
   "outputs": [
    {
     "data": {
      "text/plain": [
       "0     'One of the first of the best musicals Anchors...\n",
       "1     'Visually disjointed and full of itself the di...\n",
       "2     'These type of movies about young teenagers st...\n",
       "3     'I would rather of had my eyes gouged out with...\n",
       "4     'The title says it all. Tail Gunner Joe was a ...\n",
       "5     'There is no greater disservice to do to histo...\n",
       "6     'National Lampoon Goes to the Movies (1981) is...\n",
       "7     'I rented this on DVD yesterday and did not re...\n",
       "8     'Midnight Cowboy is one of those films thats b...\n",
       "9     'Its not a big film. The acting is not amazing...\n",
       "10    'Carlito Way the original is a brilliant story...\n",
       "11    'I really enjoyed Doctor Mordrid. This is a lo...\n",
       "12    'When I rented this movie I had very low expec...\n",
       "13    'Imagine the scenario - you are at the movie t...\n",
       "14    'This is a film that takes some digesting. On ...\n",
       "15    'I appreciate movies like this: smart and well...\n",
       "16    'When I read the summary of the movie somethin...\n",
       "17    'Near the beginning after its been established...\n",
       "18    '***spoilers***spoilers***spoilers***spoilers ...\n",
       "19    'OK this movie was cool. I dont think it was t...\n",
       "20    'Im really suprised this movie didnt get a hig...\n",
       "21    'If you want a fun romp with loads of subtle h...\n",
       "22    'this move was friggin hilarious!!! funniest I...\n",
       "23    'There are three movies with this animation st...\n",
       "24    'CREEP is a straight up serious horror film se...\n",
       "25    'What if Marylin Monroe Albert Einstein Joe Di...\n",
       "26    'Val Kilmer solid performance. Dylan McDermott...\n",
       "27    'A surprisingly good movie! It has quite a few...\n",
       "28    'Another too bad the lowest they can go here i...\n",
       "29    'There are some elements that save this movie ...\n",
       "Name: text, dtype: object"
      ]
     },
     "execution_count": 228,
     "metadata": {},
     "output_type": "execute_result"
    }
   ],
   "source": [
    "X_test[:30]"
   ]
  },
  {
   "cell_type": "code",
   "execution_count": null,
   "metadata": {},
   "outputs": [],
   "source": [
    "# 1.'I really enjoyed Doctor Mordrid. index 11 it an example of false negative\n",
    "# 2.'A surprisingly good movie! index 27 it is a example of false negative\n",
    "#3.'The title says it all. 5th element false postive\n"
   ]
  },
  {
   "cell_type": "code",
   "execution_count": null,
   "metadata": {},
   "outputs": [],
   "source": [
    "# false negative\n",
    "#A surprisingly good movie! It has quite a few good jokes thru out the whole movie. \n",
    "#The only negative thing is that some scenes go to the extremes to show just how stupid the two main characters are.\n",
    "#We get it stupid blondes get on with it!  \n",
    "#The plot just barely dodges being called corny. \n",
    "#And boobies are always a plus altho the movie for some strange reason doesnt play with that card very much\n",
    "#even tho the plot line introduces two black haired women who act as the evil counter part of our two blondes. \n",
    "#So all in all a good movie to watch. I almost gave it an 8/10 but lets not get crazy.'\n",
    "\n",
    "#eventhough this is positive review it uses 'almost, 'the', 'movie' which may have resulted to being predicted otherwise"
   ]
  },
  {
   "cell_type": "code",
   "execution_count": null,
   "metadata": {},
   "outputs": [],
   "source": [
    "# false postive\n",
    "#The title says it all. Tail Gunner Joe was a tag given to the Senator which relied upon \n",
    "#the ignorance of the public about World War II aircraft. \n",
    "#The rear facing moving guns relied upon a latch that would prevent the rear gunner \n",
    "#from shooting off the tail of the airplane by preventing the gun from firing when it pointed at the tail.\n",
    "#When the Senator was practicing on the ground one day he succeeded in shooting off the tail of the airplane.\n",
    "#He couldnt have done that if the gun had been properly aligned. \n",
    "#The gunnery officer responsible for that admitted in public before a camera that he was responsible \n",
    "#-- he had made the error not the Senator. The fact that the film did not report that fact shows how one-sided it is.\n",
    "#This film was designed to do one thing destroy the reputation of a complex person. \n",
    "#A much better program was the PBS special done on him. \n",
    "#He was a hard working intelligent ambitious politician who overcame extraordinary disadvantages to rise to \n",
    "#extraordinary heights. He made some mistakes some serious mistakes but shooting the tail off an airplane was not one of them.\n",
    "#The popularity of this film is due to the fact that the public likes simple stories \n",
    "#one=sided stories so that they dont have to think.'\n",
    "\n",
    "#use of words like  very, 'the', 'they' may have led the classifier to predict otherwise"
   ]
  },
  {
   "cell_type": "markdown",
   "metadata": {},
   "source": [
    "__4. Improve the accuracy of your model on the test data. Try at least two of the following to do this:__\n",
    "* __Use a non-binary count vectorizer or a tf-idf count vectorizer.__\n",
    "* __Use n-grams.__\n",
    "* __Remove stopwords.__\n",
    "\n",
    "__If you want, you can try other classifiers besides Bernoulli Naive Bayes.__"
   ]
  },
  {
   "cell_type": "code",
   "execution_count": 74,
   "metadata": {},
   "outputs": [],
   "source": [
    "# Your answer here.\n",
    "from sklearn.feature_extraction.text import CountVectorizer\n",
    "from sklearn.feature_extraction.text import TfidfTransformer\n",
    "from sklearn.naive_bayes import MultinomialNB\n",
    "count_vect = CountVectorizer()\n",
    "X_train_counts = count_vect.fit_transform(X_train)\n",
    "tfidf_transformer = TfidfTransformer()\n",
    "X_train_tfidf = tfidf_transformer.fit_transform(X_train_counts)\n",
    "clf = MultinomialNB().fit(X_train_tfidf, y_train)\n",
    "X_train = df_imdb_train['text']\n",
    "y_train = df_imdb_train['class']\n",
    "X_test = df_imdb_test['text'] \n",
    "y_test = df_imdb_test['class']"
   ]
  },
  {
   "cell_type": "code",
   "execution_count": 75,
   "metadata": {},
   "outputs": [],
   "source": [
    "Y_test = y_test.values.astype(int)\n",
    "\n"
   ]
  },
  {
   "cell_type": "code",
   "execution_count": 76,
   "metadata": {},
   "outputs": [
    {
     "name": "stdout",
     "output_type": "stream",
     "text": [
      "accuracy 0.9081176470588235\n"
     ]
    }
   ],
   "source": [
    "from sklearn.naive_bayes import MultinomialNB\n",
    "from sklearn.pipeline import Pipeline\n",
    "from sklearn.feature_extraction.text import TfidfTransformer\n",
    "\n",
    "nb = Pipeline([('vect', CountVectorizer()),\n",
    "               ('tfidf', TfidfTransformer()),\n",
    "               ('clf', MultinomialNB()),\n",
    "              ])\n",
    "nb.fit(X_train, y_train)\n",
    "\n",
    "\n",
    "y_pred = nb.predict(X_test)\n",
    "\n",
    "print('accuracy %s' % accuracy_score(y_pred, Y_test))"
   ]
  },
  {
   "cell_type": "code",
   "execution_count": 78,
   "metadata": {},
   "outputs": [
    {
     "data": {
      "text/plain": [
       "MultinomialNB(alpha=1.0, class_prior=None, fit_prior=True)"
      ]
     },
     "execution_count": 78,
     "metadata": {},
     "output_type": "execute_result"
    }
   ],
   "source": [
    "from sklearn.feature_extraction.text import TfidfVectorizer\n",
    "tfidf_vectorizer = TfidfVectorizer()\n",
    "# Fit a counter\n",
    "ngram_vectorizer = TfidfVectorizer(stop_words='english', ngram_range=(1, 2))\n",
    "ngram_vectorizer.fit(X_train)\n",
    "\n",
    "# Transform to a counter\n",
    "X_train_ngram = ngram_vectorizer.transform(X_train)\n",
    "X_test_ngram = ngram_vectorizer.transform(X_test)\n",
    "\n",
    "# Model\n",
    "model_ngram = MultinomialNB()\n",
    "model_ngram.fit(X_train_ngram, y_train)"
   ]
  },
  {
   "cell_type": "markdown",
   "metadata": {},
   "source": [
    "## Part II: Multi-Class Text Classification"
   ]
  },
  {
   "cell_type": "markdown",
   "metadata": {},
   "source": [
    "There are lots of applications of text classification in the commercial world. For example, news stories are typically organized by topics; content or products are often tagged by categories; users can be classified into cohorts based on how they talk about a product or brand online. \n",
    "\n",
    "Suppose you've been hired by a finance institution that wants to classify incoming consumer complaints in product categories in order to forward them to the most appropriate customer support agents. You have a sample of the complaints that have been addressed in the past, each of them labeled as one category by the agent that addressed the complaint. Each complaint is assigned to one and only one category. \n",
    "\n",
    "Let's take a look at the data."
   ]
  },
  {
   "cell_type": "markdown",
   "metadata": {},
   "source": [
    "__1. Load the data. No points for this.__"
   ]
  },
  {
   "cell_type": "code",
   "execution_count": 40,
   "metadata": {},
   "outputs": [
    {
     "data": {
      "text/html": [
       "<div>\n",
       "<style scoped>\n",
       "    .dataframe tbody tr th:only-of-type {\n",
       "        vertical-align: middle;\n",
       "    }\n",
       "\n",
       "    .dataframe tbody tr th {\n",
       "        vertical-align: top;\n",
       "    }\n",
       "\n",
       "    .dataframe thead th {\n",
       "        text-align: right;\n",
       "    }\n",
       "</style>\n",
       "<table border=\"1\" class=\"dataframe\">\n",
       "  <thead>\n",
       "    <tr style=\"text-align: right;\">\n",
       "      <th></th>\n",
       "      <th>Consumer complaint narrative</th>\n",
       "      <th>Product</th>\n",
       "    </tr>\n",
       "  </thead>\n",
       "  <tbody>\n",
       "    <tr>\n",
       "      <th>0</th>\n",
       "      <td>This is not a duplicate case. Please escalate ...</td>\n",
       "      <td>Credit card or prepaid card</td>\n",
       "    </tr>\n",
       "    <tr>\n",
       "      <th>1</th>\n",
       "      <td>I reported the problem to Money gram agent. wo...</td>\n",
       "      <td>Money transfer, virtual currency, or money ser...</td>\n",
       "    </tr>\n",
       "    <tr>\n",
       "      <th>2</th>\n",
       "      <td>Medical debt is not mine, debt is my sons who ...</td>\n",
       "      <td>Debt collection</td>\n",
       "    </tr>\n",
       "    <tr>\n",
       "      <th>3</th>\n",
       "      <td>Someone called me yesterday morning, XX/XX/201...</td>\n",
       "      <td>Debt collection</td>\n",
       "    </tr>\n",
       "    <tr>\n",
       "      <th>4</th>\n",
       "      <td>This is a debt with Conn 's - I am not 30 days...</td>\n",
       "      <td>Debt collection</td>\n",
       "    </tr>\n",
       "  </tbody>\n",
       "</table>\n",
       "</div>"
      ],
      "text/plain": [
       "                        Consumer complaint narrative  \\\n",
       "0  This is not a duplicate case. Please escalate ...   \n",
       "1  I reported the problem to Money gram agent. wo...   \n",
       "2  Medical debt is not mine, debt is my sons who ...   \n",
       "3  Someone called me yesterday morning, XX/XX/201...   \n",
       "4  This is a debt with Conn 's - I am not 30 days...   \n",
       "\n",
       "                                             Product  \n",
       "0                        Credit card or prepaid card  \n",
       "1  Money transfer, virtual currency, or money ser...  \n",
       "2                                    Debt collection  \n",
       "3                                    Debt collection  \n",
       "4                                    Debt collection  "
      ]
     },
     "execution_count": 40,
     "metadata": {},
     "output_type": "execute_result"
    }
   ],
   "source": [
    "# Remember to change this to the path of your file.\n",
    "complaints_path = 'C:/Users/UTKARSH/complaints_sample.csv'\n",
    "\n",
    "data = pd.read_csv(complaints_path)\n",
    "data.head()"
   ]
  },
  {
   "cell_type": "markdown",
   "metadata": {},
   "source": [
    "__2. Print how many complaints there are for each product category.__"
   ]
  },
  {
   "cell_type": "code",
   "execution_count": 27,
   "metadata": {},
   "outputs": [
    {
     "data": {
      "text/plain": [
       "Credit reporting, credit repair services, or other personal consumer reports    24401\n",
       "Debt collection                                                                 17065\n",
       "Mortgage                                                                        10552\n",
       "Credit card or prepaid card                                                      8333\n",
       "Student loan                                                                     4184\n",
       "Bank account or service                                                          2985\n",
       "Checking or savings account                                                      2485\n",
       "Consumer Loan                                                                    1868\n",
       "Money transfer, virtual currency, or money service                               1345\n",
       "Payday loan, title loan, or personal loan                                        1223\n",
       "Vehicle loan or lease                                                            1134\n",
       "Name: Product, dtype: int64"
      ]
     },
     "execution_count": 27,
     "metadata": {},
     "output_type": "execute_result"
    }
   ],
   "source": [
    "# Your answer here.\n",
    "data.Product.value_counts()"
   ]
  },
  {
   "cell_type": "markdown",
   "metadata": {},
   "source": [
    "__3. Split the data into a training and a test set. Build a logistic regression model to classify complaints according to product categories. Report its accuracy when applied to the test set. Why is this number relatively low compared to the binary accuracy in Part I? HINT: You may want to use [factorize](https://pandas.pydata.org/pandas-docs/stable/reference/api/pandas.factorize.html) to transform the target variable into a categorical variable. Take a look at the sample code below.__"
   ]
  },
  {
   "cell_type": "code",
   "execution_count": 41,
   "metadata": {},
   "outputs": [
    {
     "data": {
      "text/html": [
       "<div>\n",
       "<style scoped>\n",
       "    .dataframe tbody tr th:only-of-type {\n",
       "        vertical-align: middle;\n",
       "    }\n",
       "\n",
       "    .dataframe tbody tr th {\n",
       "        vertical-align: top;\n",
       "    }\n",
       "\n",
       "    .dataframe thead th {\n",
       "        text-align: right;\n",
       "    }\n",
       "</style>\n",
       "<table border=\"1\" class=\"dataframe\">\n",
       "  <thead>\n",
       "    <tr style=\"text-align: right;\">\n",
       "      <th></th>\n",
       "      <th>Product</th>\n",
       "      <th>Consumer_complaint_narrative</th>\n",
       "      <th>category_id</th>\n",
       "    </tr>\n",
       "  </thead>\n",
       "  <tbody>\n",
       "    <tr>\n",
       "      <th>0</th>\n",
       "      <td>Credit card or prepaid card</td>\n",
       "      <td>This is not a duplicate case. Please escalate ...</td>\n",
       "      <td>0</td>\n",
       "    </tr>\n",
       "    <tr>\n",
       "      <th>1</th>\n",
       "      <td>Money transfer, virtual currency, or money ser...</td>\n",
       "      <td>I reported the problem to Money gram agent. wo...</td>\n",
       "      <td>1</td>\n",
       "    </tr>\n",
       "    <tr>\n",
       "      <th>2</th>\n",
       "      <td>Debt collection</td>\n",
       "      <td>Medical debt is not mine, debt is my sons who ...</td>\n",
       "      <td>2</td>\n",
       "    </tr>\n",
       "    <tr>\n",
       "      <th>3</th>\n",
       "      <td>Debt collection</td>\n",
       "      <td>Someone called me yesterday morning, XX/XX/201...</td>\n",
       "      <td>2</td>\n",
       "    </tr>\n",
       "    <tr>\n",
       "      <th>4</th>\n",
       "      <td>Debt collection</td>\n",
       "      <td>This is a debt with Conn 's - I am not 30 days...</td>\n",
       "      <td>2</td>\n",
       "    </tr>\n",
       "  </tbody>\n",
       "</table>\n",
       "</div>"
      ],
      "text/plain": [
       "                                             Product  \\\n",
       "0                        Credit card or prepaid card   \n",
       "1  Money transfer, virtual currency, or money ser...   \n",
       "2                                    Debt collection   \n",
       "3                                    Debt collection   \n",
       "4                                    Debt collection   \n",
       "\n",
       "                        Consumer_complaint_narrative  category_id  \n",
       "0  This is not a duplicate case. Please escalate ...            0  \n",
       "1  I reported the problem to Money gram agent. wo...            1  \n",
       "2  Medical debt is not mine, debt is my sons who ...            2  \n",
       "3  Someone called me yesterday morning, XX/XX/201...            2  \n",
       "4  This is a debt with Conn 's - I am not 30 days...            2  "
      ]
     },
     "execution_count": 41,
     "metadata": {},
     "output_type": "execute_result"
    }
   ],
   "source": [
    "from io import StringIO\n",
    "col = ['Product', 'Consumer complaint narrative']\n",
    "data = data[col]\n",
    "data = data[pd.notnull(data['Consumer complaint narrative'])]\n",
    "data.columns = ['Product', 'Consumer_complaint_narrative']\n",
    "data['category_id'], unique_prod = data['Product'].factorize()\n",
    "#category_id_df = data[['Product', 'category_id']].drop_duplicates().sort_values('category_id') #unique values\n",
    "#category_to_id = dict(category_id_df.values) # labels which are unique\n",
    "#id_to_category = dict(category_id_df[['category_id', 'Product']].values)\n",
    "data.head()"
   ]
  },
  {
   "cell_type": "code",
   "execution_count": 12,
   "metadata": {},
   "outputs": [],
   "source": [
    "#Naive Bayes also assumes that the features are conditionally independent. \n",
    "#Real data sets are never perfectly independent but they can be close. \n",
    "#In short Naive Bayes has a higher bias but lower variance compared to logistic regression. \n",
    "#If the data set follows the bias then Naive Bayes will be a better classifier. "
   ]
  },
  {
   "cell_type": "code",
   "execution_count": 13,
   "metadata": {},
   "outputs": [
    {
     "data": {
      "text/plain": [
       "<Figure size 800x600 with 1 Axes>"
      ]
     },
     "metadata": {},
     "output_type": "display_data"
    }
   ],
   "source": [
    "import matplotlib.pyplot as plt\n",
    "fig = plt.figure(figsize=(8,6))\n",
    "data.groupby('Product').Consumer_complaint_narrative.count().plot.bar(ylim=0)\n",
    "plt.show()\n",
    "\n",
    "# here we observe that the complaints are highly imbalanced towards credit reporting, debt collection, mortgage # "
   ]
  },
  {
   "cell_type": "code",
   "execution_count": 42,
   "metadata": {
    "scrolled": true
   },
   "outputs": [
    {
     "name": "stdout",
     "output_type": "stream",
     "text": [
      "Credit reporting, credit repair services, or other personal consumer reports\n",
      "prod: XX/XX/2018 XXXX XXXX XXXX XXXX XXXX XXXX XXXX XXXX GA XXXX XXXX & TransUnion & XXXX Re : Fraudulent Accounts and Unauthorized Inquiries To whom it may concern : Be informed that this is an internal dispute and an affidavit. Recently i received a copy of my credit report and I discovered Inquiries i didnt not authorize along with fraudulent accounts. I understand and aware that you should not put an inquiry on my file unless i have approved it and you have my consent. After taking a close look at my credit report I notice so many errors on behalf of your company. I understand that I have been involved in a few breaches that has cause my credit info to be leaked by XXXX, and other companies. I have recently filed a police report against your company for the negligence and i am currently working with an investigator to stop the use of my name by someone who has stolen my identity. Please have the following inquiries and error accounts removed off my credit file immediately because i did not authorized them and they are fraudulent.\r",
      "\r\n",
      "\r",
      "\r\n",
      "List fraudulent accounts : 1. XXXX XXXX XXXX 2. XXXX XXXX XXXX 3. XXXX XXXX XXXX 4. XXXX XXXX XXXX 5. XXXX XXXX XXXX 6. XXXX XXXX XXXX XXXX 7.\r",
      "\r\n",
      "\r",
      "\r\n",
      "XXXX XXXX XXXX XXXX. 8. XXXX XXXX XXXX  9. XXXX XXXX XXXX XXXX INQUIRIES are uploaded in the attachments.\r",
      "\r\n",
      "\r",
      "\r\n",
      "Also be advised that The Fair Credit Reporting Act states that any information that is maintained under any individuals credit report must be accurate. This includes unauthorized inquiries. If your company refuses to investigate and respond to my request within 48 hrs of receiving this letter. I am prepared to file a lawsuit in small claims court where you will be forced to appear. Also be aware that I have sent in return receipt signature for pervious certified letters. Ive sent certified letters and I have records on file of the certified letters. I am keeping it as evidence when we appear in court. I sent this letter because i need your prompt response to this issue and i need written corespondent that your company is acting upon my request. If you find that i am remised and you do have my authorization to inquire into my credit report and then please send me proof likewise. \r",
      "\r\n",
      "\r",
      "\r\n",
      "Sincerely XXXX XXXX XXXX Witness : XXXX XXXX Witness : XXXX XXXX\n"
     ]
    }
   ],
   "source": [
    "def print_plot(index):\n",
    "    example = data[data.index == index][['Product', 'Consumer_complaint_narrative']].values[0]\n",
    "    if len(example) > 0:\n",
    "        print(example[0])\n",
    "        print('prod:', example[1])\n",
    "print_plot(10)"
   ]
  },
  {
   "cell_type": "code",
   "execution_count": 43,
   "metadata": {},
   "outputs": [
    {
     "name": "stdout",
     "output_type": "stream",
     "text": [
      "Credit reporting, credit repair services, or other personal consumer reports\n",
      "prod: xx xx 2018 xxxx xxxx xxxx xxxx xxxx xxxx xxxx xxxx ga xxxx xxxx transunion xxxx fraudulent accounts unauthorized inquiries may concern informed internal dispute affidavit recently received copy credit report discovered inquiries didnt authorize along fraudulent accounts understand aware put inquiry file unless approved consent taking close look credit report notice many errors behalf company understand involved breaches cause credit info leaked xxxx companies recently filed police report company negligence currently working investigator stop use name someone stolen identity please following inquiries error accounts removed credit file immediately authorized fraudulentlist fraudulent accounts 1 xxxx xxxx xxxx 2 xxxx xxxx xxxx 3 xxxx xxxx xxxx 4 xxxx xxxx xxxx 5 xxxx xxxx xxxx 6 xxxx xxxx xxxx xxxx 7xxxx xxxx xxxx xxxx 8 xxxx xxxx xxxx 9 xxxx xxxx xxxx xxxx inquiries uploaded attachmentsalso advised fair credit reporting act states information maintained individuals credit report must accurate includes unauthorized inquiries company refuses investigate respond request within 48 hrs receiving letter prepared file lawsuit small claims court forced appear also aware sent return receipt signature pervious certified letters ive sent certified letters records file certified letters keeping evidence appear court sent letter need prompt response issue need written corespondent company acting upon request find remised authorization inquire credit report please send proof likewise sincerely xxxx xxxx xxxx witness xxxx xxxx witness xxxx xxxx\n"
     ]
    }
   ],
   "source": [
    "# text cleaning and preprocessing#\n",
    "import nltk\n",
    "from nltk.corpus import stopwords\n",
    "import re\n",
    "from bs4 import BeautifulSoup\n",
    "\n",
    "\n",
    "REPLACE_BY_SPACE_RE = re.compile('[/(){}\\[\\]\\|@,;]')\n",
    "BAD_SYMBOLS_RE = re.compile('[^0-9a-z #+_]')\n",
    "STOPWORDS = set(stopwords.words('english'))\n",
    "\n",
    "def clean_text(text):\n",
    "    \"\"\"\n",
    "        text: a string\n",
    "        \n",
    "        return: modified initial string\n",
    "    \"\"\"\n",
    "    text = BeautifulSoup(text, \"lxml\").text # HTML decoding\n",
    "    text = text.lower() # lowercase text\n",
    "    text = REPLACE_BY_SPACE_RE.sub(' ', text) # replace REPLACE_BY_SPACE_RE symbols by space in text\n",
    "    text = BAD_SYMBOLS_RE.sub('', text) # delete symbols which are in BAD_SYMBOLS_RE from text\n",
    "    text = ' '.join(word for word in text.split() if word not in STOPWORDS) # delete stopwords from text\n",
    "    return text\n",
    "    \n",
    "data['Consumer_complaint_narrative'] = data['Consumer_complaint_narrative'].apply(clean_text)\n",
    "print_plot(10)"
   ]
  },
  {
   "cell_type": "code",
   "execution_count": 44,
   "metadata": {},
   "outputs": [
    {
     "data": {
      "text/plain": [
       "7659047"
      ]
     },
     "execution_count": 44,
     "metadata": {},
     "output_type": "execute_result"
    }
   ],
   "source": [
    "data['Consumer_complaint_narrative'].apply(lambda x: len(x.split(' '))).sum()"
   ]
  },
  {
   "cell_type": "code",
   "execution_count": 45,
   "metadata": {},
   "outputs": [],
   "source": [
    "from sklearn.model_selection import train_test_split\n",
    "\n",
    "X = data.Consumer_complaint_narrative\n",
    "y = data.category_id\n",
    "\n",
    "X_train, X_test, y_train, y_test = train_test_split(X, y, test_size=0.2)"
   ]
  },
  {
   "cell_type": "code",
   "execution_count": 46,
   "metadata": {},
   "outputs": [
    {
     "name": "stderr",
     "output_type": "stream",
     "text": [
      "C:\\ProgramData\\Anaconda3\\lib\\site-packages\\sklearn\\linear_model\\logistic.py:433: FutureWarning: Default solver will be changed to 'lbfgs' in 0.22. Specify a solver to silence this warning.\n",
      "  FutureWarning)\n",
      "C:\\ProgramData\\Anaconda3\\lib\\site-packages\\sklearn\\linear_model\\logistic.py:460: FutureWarning: Default multi_class will be changed to 'auto' in 0.22. Specify the multi_class option to silence this warning.\n",
      "  \"this warning.\", FutureWarning)\n"
     ]
    },
    {
     "name": "stdout",
     "output_type": "stream",
     "text": [
      "accuracy 0.7975521005623553\n"
     ]
    }
   ],
   "source": [
    "from sklearn.linear_model import LogisticRegression\n",
    "from sklearn.pipeline import Pipeline\n",
    "from sklearn.metrics import accuracy_score\n",
    "from sklearn.feature_extraction.text import TfidfTransformer\n",
    "from sklearn.feature_extraction.text import CountVectorizer\n",
    "\n",
    "nb = Pipeline([('vect', CountVectorizer()),\n",
    "               ('tfidf', TfidfTransformer()),\n",
    "               ('clf', LogisticRegression()),\n",
    "              ])\n",
    "nb.fit(X_train, y_train)\n",
    "\n",
    "\n",
    "y_pred = nb.predict(X_test)\n",
    "\n",
    "print('accuracy %s' % accuracy_score(y_pred, y_test))\n"
   ]
  },
  {
   "cell_type": "markdown",
   "metadata": {},
   "source": [
    "__4. Make a confusion matrix that shows the errors made by your model. Use the test set labels and your predictions for the test set to build the matrix. Plot the confusion matrix using a Seaborn heatmap. What would perfect predictions look like? Give an example of one systematic type of error that you see. How can you tell that this is a systematic error? Why do you think such errors occur? HINT: Below there is code building and plotting a confusion matrix using the entire data and random predictions. The code removes the diagonal to highlight prediction errors.__"
   ]
  },
  {
   "cell_type": "code",
   "execution_count": 54,
   "metadata": {},
   "outputs": [
    {
     "data": {
      "image/png": "[encoded data removed]",
      "text/plain": [
       "<Figure size 432x288 with 2 Axes>"
      ]
     },
     "metadata": {
      "needs_background": "light"
     },
     "output_type": "display_data"
    }
   ],
   "source": [
    "from sklearn.metrics import confusion_matrix\n",
    "import seaborn as sns\n",
    "import numpy as np\n",
    "%matplotlib inline\n",
    "import matplotlib.pylab as plt\n",
    "\n",
    "\n",
    "tick_labels = [c[:30] for c in unique_prod]\n",
    "def plot_matrix(mat, title, remove_diagonal=True):\n",
    "    error_mat = mat.copy()\n",
    "    if remove_diagonal:\n",
    "        diag_ixs = np.arange(mat.shape[0])\n",
    "        error_mat[diag_ixs, diag_ixs] = 0\n",
    "    sns.heatmap(error_mat, annot=True, fmt='d', yticklabels=tick_labels, xticklabels=tick_labels)\n",
    "    plt.ylabel('Predictions')\n",
    "    plt.xlabel('True labels')\n",
    "    plt.title(title)\n",
    "\n",
    "random_predictions = np.random.choice(range(len(unique_prod)), len(data['category_id']))\n",
    "random_conf_mat = confusion_matrix(random_predictions, data['category_id'])\n",
    "plot_matrix(random_conf_mat, 'Error Matrix', remove_diagonal=True)\n",
    "\n"
   ]
  },
  {
   "cell_type": "code",
   "execution_count": 10,
   "metadata": {
    "scrolled": false
   },
   "outputs": [],
   "source": [
    "# Your answer here.\n",
    "#A perfect predicition would have each element in matrix equal to zero  \n",
    "#in our case, credit reporting has higher set of values and maximum number of complaints that is why numbers\n",
    "#vary each time the error would be high consistently for credit reporting\n"
   ]
  },
  {
   "cell_type": "markdown",
   "metadata": {},
   "source": [
    "__5. Suppose that the priority level of complaints varies by product category. You know that higher priority complaints need to be addressed faster. You also know that complaints incorrectly classified by the model will be given the correct classification (and therefore also the correct priority) by the first agent to which the complaint is assigned. If the agent has no knowledge about the product category of the complaint, he/she can forward the complaint to someone else. This is how priority level varies by product:__\n",
    "\n",
    "__High priority__\n",
    "* 'Money transfer, virtual currency, or money service'\n",
    "* 'Bank account or service'\n",
    "* 'Checking or savings account'\n",
    "\n",
    "__Normal priority__\n",
    "* 'Credit card or prepaid card'\n",
    "* 'Mortgage'\n",
    "* 'Student loan'\n",
    "* 'Consumer Loan'\n",
    "* 'Payday loan, title loan, or personal loan'\n",
    "* 'Vehicle loan or lease'\n",
    "\n",
    "__Low priority__\n",
    "* 'Credit reporting, credit repair services, or other personal consumer reports'\n",
    "* 'Debt collection'\n",
    "\n",
    "__Below you will find three cost matrices. Compute the total cost of your model according to each of them. If you were to compare multiple models, which cost matrix do you think would be better to compare the models? Why? Would you consider making any modifications to the cost matrix that you chose? If so, explain what would you consider changing and why. HINT: Below there is a sample code of how to compute the total cost of the random predictions.__"
   ]
  },
  {
   "cell_type": "code",
   "execution_count": 55,
   "metadata": {},
   "outputs": [
    {
     "data": {
      "image/png": "[encoded data removed]",
      "text/plain": [
       "<Figure size 432x288 with 2 Axes>"
      ]
     },
     "metadata": {
      "needs_background": "light"
     },
     "output_type": "display_data"
    }
   ],
   "source": [
    "cost_matrix_1 = np.array([[0, 1, 1, 1, 1, 1, 1, 1, 1, 1, 1],\n",
    "                          [1, 0, 1, 1, 1, 1, 1, 1, 1, 1, 1],\n",
    "                          [1, 1, 0, 1, 1, 1, 1, 1, 1, 1, 1],\n",
    "                          [1, 1, 1, 0, 1, 1, 1, 1, 1, 1, 1],\n",
    "                          [1, 1, 1, 1, 0, 1, 1, 1, 1, 1, 1],\n",
    "                          [1, 1, 1, 1, 1, 0, 1, 1, 1, 1, 1],\n",
    "                          [1, 1, 1, 1, 1, 1, 0, 1, 1, 1, 1],\n",
    "                          [1, 1, 1, 1, 1, 1, 1, 0, 1, 1, 1],\n",
    "                          [1, 1, 1, 1, 1, 1, 1, 1, 0, 1, 1],\n",
    "                          [1, 1, 1, 1, 1, 1, 1, 1, 1, 0, 1],\n",
    "                          [1, 1, 1, 1, 1, 1, 1, 1, 1, 1, 0]])\n",
    "plot_matrix(cost_matrix_1, 'Cost Matrix 1')\n",
    "#11"
   ]
  },
  {
   "cell_type": "code",
   "execution_count": 56,
   "metadata": {},
   "outputs": [
    {
     "data": {
      "image/png": "[encoded data removed]",
      "text/plain": [
       "<Figure size 432x288 with 2 Axes>"
      ]
     },
     "metadata": {
      "needs_background": "light"
     },
     "output_type": "display_data"
    }
   ],
   "source": [
    "cost_matrix_2 = np.array([[0, 1, 2, 1, 2, 1, 1, 1, 1, 1, 1],\n",
    "                          [2, 0, 3, 1, 3, 2, 2, 1, 2, 2, 2],\n",
    "                          [1, 1, 0, 1, 1, 1, 1, 1, 1, 1, 1],\n",
    "                          [2, 1, 3, 0, 3, 2, 2, 1, 2, 2, 2],\n",
    "                          [1, 1, 1, 1, 0, 1, 1, 1, 1, 1, 1],\n",
    "                          [1, 1, 2, 1, 2, 0, 1, 1, 1, 1, 1],\n",
    "                          [1, 1, 2, 1, 2, 1, 0, 1, 1, 1, 1],\n",
    "                          [2, 1, 3, 1, 3, 2, 2, 0, 2, 2, 2],\n",
    "                          [1, 1, 2, 1, 2, 1, 1, 1, 0, 1, 1],\n",
    "                          [1, 1, 2, 1, 2, 1, 1, 1, 1, 0, 1],\n",
    "                          [1, 1, 2, 1, 2, 1, 1, 1, 1, 1, 0]])\n",
    "plot_matrix(cost_matrix_2, 'Cost Matrix 2')\n",
    "#13"
   ]
  },
  {
   "cell_type": "code",
   "execution_count": 57,
   "metadata": {},
   "outputs": [
    {
     "data": {
      "image/png": "[encoded data removed]",
      "text/plain": [
       "<Figure size 432x288 with 2 Axes>"
      ]
     },
     "metadata": {
      "needs_background": "light"
     },
     "output_type": "display_data"
    }
   ],
   "source": [
    "cost_matrix_3 = np.array([[0, 2, 2, 2, 2, 1, 1, 2, 1, 1, 1],\n",
    "                          [2, 0, 3, 1, 3, 2, 2, 1, 2, 2, 2],\n",
    "                          [2, 3, 0, 3, 1, 2, 2, 3, 2, 2, 2],\n",
    "                          [2, 1, 3, 0, 3, 2, 2, 1, 2, 2, 2],\n",
    "                          [2, 3, 1, 3, 0, 2, 2, 3, 2, 2, 2],\n",
    "                          [1, 2, 2, 2, 2, 0, 1, 2, 1, 1, 1],\n",
    "                          [1, 2, 2, 2, 2, 1, 0, 2, 1, 1, 1],\n",
    "                          [2, 1, 3, 1, 3, 2, 2, 0, 2, 2, 2],\n",
    "                          [1, 2, 2, 2, 2, 1, 1, 2, 0, 1, 1],\n",
    "                          [1, 2, 2, 2, 2, 1, 1, 2, 1, 0, 1],\n",
    "                          [1, 2, 2, 2, 2, 1, 1, 2, 1, 1, 0]])\n",
    "plot_matrix(cost_matrix_3, 'Cost Matrix 3')"
   ]
  },
  {
   "cell_type": "code",
   "execution_count": 58,
   "metadata": {},
   "outputs": [
    {
     "name": "stdout",
     "output_type": "stream",
     "text": [
      "Cost with matrix 1:  68607\n",
      "Cost with matrix 2:  121393\n",
      "Cost with matrix 3:  132507\n"
     ]
    }
   ],
   "source": [
    "# Replace random_conf_mat with the confusion matrix you generated in the last question.\n",
    "\n",
    "print(\"Cost with matrix 1: \", (random_conf_mat * cost_matrix_1).sum())\n",
    "print(\"Cost with matrix 2: \", (random_conf_mat * cost_matrix_2).sum())\n",
    "print(\"Cost with matrix 3: \", (random_conf_mat * cost_matrix_3).sum())"
   ]
  },
  {
   "cell_type": "code",
   "execution_count": 15,
   "metadata": {},
   "outputs": [],
   "source": [
    "# Your answer here.\n",
    "#if agent starts dealing with highest priority first and comes across a low priority complaint\n",
    "#he will waste time in reading and correctly classifying low priority data\n",
    "#but he will not waste time in solving the complaint, however, by the time he reaches low priority category, he has already\n",
    "#prioritized all other complaints, at this point if he views a high priority complaint he has wasted a lot of time hence\n",
    "#low priority getting misclssified as high priority leads to a little time and effort cost.\n",
    "#but time cost of misclassifying high priority as low priority is very high.\n",
    "#cost matrix \n",
    "#cost matrix 3 is better to compare models\n",
    "# low priority has been misclassified the cost should still be low the agent wiill not work on solving it not in case of hig priority\n"
   ]
  }
 ],
 "metadata": {
  "kernelspec": {
   "display_name": "Python 3",
   "language": "python",
   "name": "python3"
  },
  "language_info": {
   "codemirror_mode": {
    "name": "ipython",
    "version": 3
   },
   "file_extension": ".py",
   "mimetype": "text/x-python",
   "name": "python",
   "nbconvert_exporter": "python",
   "pygments_lexer": "ipython3",
   "version": "3.7.3"
  }
 },
 "nbformat": 4,
 "nbformat_minor": 2
}
